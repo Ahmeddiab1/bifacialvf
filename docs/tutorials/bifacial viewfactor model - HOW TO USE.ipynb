{
 "cells": [
  {
   "cell_type": "code",
   "execution_count": 1,
   "metadata": {},
   "outputs": [
    {
     "data": {
      "text/plain": [
       "'c:\\\\users\\\\sayala\\\\documents\\\\github\\\\bifacialvf\\\\bifacialvf'"
      ]
     },
     "execution_count": 1,
     "metadata": {},
     "output_type": "execute_result"
    }
   ],
   "source": [
    "# STEP 1: Install and import the program\n",
    "#\n",
    "# clone the repo to your local directory\n",
    "# navigate to the \\bifacialvf directory which contains setup\n",
    "# run pip install -e .\n",
    "\n",
    "import bifacialvf    \n",
    "import os\n",
    "# change directory to \\bifacialvf\\ root\n",
    "os.chdir(os.path.dirname(bifacialvf.__file__))\n",
    "%pwd"
   ]
  },
  {
   "cell_type": "code",
   "execution_count": 2,
   "metadata": {},
   "outputs": [],
   "source": [
    "#2. Set the Values of your test\n",
    "# Remember all values are normalized to your panel length (slope, which will equal 1).\n",
    "# If your slope is different than 1 m, desired C and rtr (or D) will need to be \n",
    "# divided by the slope length.\n",
    "# i.e.: panel 1mx1.59m, in portrait mode means slope = 1.59. For a height C of 1m, C = 1/1.59. \n",
    "#         For a rtr of 1.5m, D=0.51519/1.59 if beta tilt angle = 10 \n",
    "\n",
    "# Set mandatory variables\n",
    "beta = 10                   # PV tilt (deg)\n",
    "sazm = 180                  # PV Azimuth(deg)\n",
    "clearance_height = 1                      # GroundClearance(panel slope lengths)\n",
    "pitch = 1.5              # row to row spacing in panel lengths. \n",
    "GCR = 1.0/pitch             # Ground Cover Ratio\n",
    "\n",
    "TMYtoread = \"data/724010TYA.csv\"   # VA Richmond\n",
    "writefiletitle = \"data/Output/test.csv\"\n",
    "\n",
    "# Set optional variables.  These are the default values\n",
    "rowType = \"interior\"        # RowType(first interior last single)\n",
    "transFactor = 0.013         # TransmissionFactor(open area fraction)\n",
    "sensorsy = 6                # CellRows(# hor rows in panel)   This is the number of irradiance values returned along module chord\n",
    "PVfrontSurface = \"glass\"    # PVfrontSurface(glass or ARglass)\n",
    "PVbackSurface = \"glass\"     # PVbackSurface(glass or ARglass)\n",
    "albedo = 0.62               # ground albedo beneath system\n",
    "# 1-axis tracking instructions (optional)\n",
    "tracking=False\n",
    "backtrack=True       # backtracking optimization as defined in pvlib\n",
    "\n",
    "\n",
    "deltastyle='TMY3'\n"
   ]
  },
  {
   "cell_type": "markdown",
   "metadata": {},
   "source": [
    "Notice that fixed systems use the parameter D, which is the space between the end of one panel and the beginning of the end, so it relates to the inclination angle beta. To go from a rtr value to D, you can use\n",
    "\n",
    "from rtr_and_D_calculation import rtr2D\n",
    "D = rtr2D(beta, rtr)"
   ]
  },
  {
   "cell_type": "code",
   "execution_count": 3,
   "metadata": {},
   "outputs": [],
   "source": [
    "myTMY3, meta = bifacialvf.bifacialvf.readInputTMY(TMYtoread)\n"
   ]
  },
  {
   "cell_type": "code",
   "execution_count": 4,
   "metadata": {},
   "outputs": [
    {
     "name": "stdout",
     "output_type": "stream",
     "text": [
      "Calculating Sun position with a delta of -30 mins. i.e. 12 is 11:30 sunpos\n",
      "Albedo value passed, but also present in TMY3 file.  Using albedo value passed. To use the ones in TMY3 file re-run simulation with albedo=None\n",
      "\n",
      " \n",
      "********* \n",
      "Running Simulation for TMY3:  \"RICHMOND INTERNATIONAL AP\"\n",
      "Location:   \"RICHMOND INTERNATIONAL AP\"\n",
      "Lat:  37.517  Long:  -77.317  Tz  -5.0\n",
      "Parameters: tilt:  10   Sazm:  180     Clearance_Height :  1   Pitch:  1.5   Row type:  interior   Albedo:  0.62\n",
      "Saving into data/Output/test.csv\n",
      " \n",
      " \n",
      "Distance between rows for no shading on Dec 21 at 9 am solar time =  0.4512873506537171\n",
      "Actual distance between rows =  0.515192246987792\n",
      " \n",
      "Warning: tracking=False, but backtracking=True.  Setting backtracking=False because it doesn't make  sense to backtrack on fixed tilt systems.\n"
     ]
    },
    {
     "name": "stderr",
     "output_type": "stream",
     "text": [
      "100%|██████████| 8760/8760 [01:16<00:00, 114.12it/s]\n"
     ]
    },
    {
     "name": "stdout",
     "output_type": "stream",
     "text": [
      "Finished\n"
     ]
    }
   ],
   "source": [
    "#3. Call the function.\n",
    "\n",
    "\n",
    "bifacialvf.simulate(myTMY3, meta, writefiletitle, beta, sazm, \n",
    "                clearance_height=clearance_height, pitch=pitch, rowType=rowType, transFactor=transFactor, sensorsy=sensorsy,\n",
    "                PVfrontSurface=PVfrontSurface, PVbackSurface=PVbackSurface, albedo=albedo, \n",
    "                tracking=tracking, backtrack=backtrack, deltastyle=deltastyle)\n",
    "    "
   ]
  },
  {
   "cell_type": "code",
   "execution_count": 5,
   "metadata": {},
   "outputs": [
    {
     "name": "stdout",
     "output_type": "stream",
     "text": [
      "The bifacial ratio for ground clearance 1 and rtr spacing 1.5 is: 16.3%\n"
     ]
    }
   ],
   "source": [
    "#4. Load the results from the resultfile\n",
    "(data, metadata) = bifacialvf.loadVFresults(writefiletitle)\n",
    "#print data.keys()\n",
    "# calculate average front and back global tilted irradiance across the module chord\n",
    "data['GTIFrontavg'] = data[['No_1_RowFrontGTI', 'No_2_RowFrontGTI','No_3_RowFrontGTI','No_4_RowFrontGTI','No_5_RowFrontGTI','No_6_RowFrontGTI']].mean(axis=1)\n",
    "data['GTIBackavg'] = data[['No_1_RowBackGTI', 'No_2_RowBackGTI','No_3_RowBackGTI','No_4_RowBackGTI','No_5_RowBackGTI','No_6_RowBackGTI']].mean(axis=1)\n",
    "\n",
    "# Print the annual bifacial ratio\n",
    "frontIrrSum = data['GTIFrontavg'].sum()\n",
    "backIrrSum = data['GTIBackavg'].sum()\n",
    "print('The bifacial ratio for ground clearance {} and rtr spacing {} is: {:.1f}%'.format(clearance_height,pitch,backIrrSum/frontIrrSum*100))\n",
    "\n"
   ]
  },
  {
   "cell_type": "code",
   "execution_count": null,
   "metadata": {},
   "outputs": [],
   "source": [
    "metdata"
   ]
  },
  {
   "cell_type": "code",
   "execution_count": null,
   "metadata": {},
   "outputs": [],
   "source": [
    "# plot the rear irradiance distribution for a single point in time. 1999-07-06\n",
    "import matplotlib.pyplot as plt\n",
    "import pandas as pd\n",
    "%matplotlib inline\n",
    "\n",
    "data['GTIBackstd'] = data[['No_1_RowBackGTI', 'No_2_RowBackGTI','No_3_RowBackGTI','No_4_RowBackGTI','No_5_RowBackGTI','No_6_RowBackGTI']].std(axis=1)\n",
    "data['measdatetime'] = pd.to_datetime(data[['Year', 'Month', 'Day','Hour','Minute']])\n",
    "singleday = (data['measdatetime'] > '1999-07-06') & (data['measdatetime']<'1999-07-07')\n",
    "singleday2 = (data['measdatetime'] > '1999-07-12') & (data['measdatetime']<'1999-07-13')\n",
    "\n",
    "fig, ax = plt.subplots()\n",
    "ax1 = ax.twinx()\n",
    "ax1.plot(data['measdatetime'][singleday],data['GTIFrontavg'][singleday],'k')\n",
    "ax1.set_ylabel('Front Irradiance (Wm-2)')\n",
    "ax.set_ylabel('Rear Irradiance (Wm-2)')\n",
    "ax.plot(data['measdatetime'][singleday], data['No_1_RowBackGTI'][singleday],'r' , alpha =0.5)\n",
    "ax.plot(data['measdatetime'][singleday], data['No_2_RowBackGTI'][singleday], 'b', alpha = 0.5)\n",
    "ax.plot(data['measdatetime'][singleday], data['No_6_RowBackGTI'][singleday], 'g', alpha = 0.5)\n",
    "ax.set_title('Sunny day')\n",
    "fig.autofmt_xdate()\n",
    "fig.tight_layout()\n",
    "\n",
    "\n",
    "fig2, ax2 = plt.subplots()\n",
    "ax3 = ax2.twinx()\n",
    "ax3.plot(data['measdatetime'][singleday2],data['GTIFrontavg'][singleday2],'k')\n",
    "ax3.set_ylabel('Front Irradiance (Wm-2)')\n",
    "ax2.set_ylabel('Rear Irradiance (Wm-2)')\n",
    "ax2.plot(data['measdatetime'][singleday2], data['No_1_RowBackGTI'][singleday2],'r' , alpha =0.5)\n",
    "ax2.plot(data['measdatetime'][singleday2], data['No_2_RowBackGTI'][singleday2], 'b', alpha = 0.5)\n",
    "ax2.plot(data['measdatetime'][singleday2], data['No_6_RowBackGTI'][singleday2], 'g', alpha = 0.5)\n",
    "ax2.set_title('Cloudy day')\n",
    "fig2.autofmt_xdate()\n",
    "fig2.tight_layout()\n",
    "\n",
    "\n"
   ]
  },
  {
   "cell_type": "markdown",
   "metadata": {},
   "source": [
    "# Example of 1-axis tracking\n"
   ]
  },
  {
   "cell_type": "code",
   "execution_count": 11,
   "metadata": {},
   "outputs": [],
   "source": [
    "# tracker geometry options:\n",
    "module_height = 4  # module portrait dimension in meters (2-up portrait 'module')\n",
    "gcr = 0.35   # ground cover ratio,  = module_height / pitch\n",
    "albedo = 0.3     # ground albedo\n",
    "hub_height_meters = 2.5   # tracker height at 0 tilt in meters (hub height)\n",
    "limit_angle = 45 # tracker rotation limit angle\n",
    "\n",
    "# Set mandatory variables\n",
    "beta = 0                   # Tracking doesn't allow tilted trackers at the moment.\n",
    "sazm = 180                  # PV Azimuth(deg) - tracker axis orientation for E-W tracked system.\n",
    "hub_height = hub_height_meters / module_height                      # GroundClearance(panel slope lengths)\n",
    "pitch = 1 / gcr              # row to row spacing in panel lengths. \n",
    "\n",
    "\n",
    "TMYtoread = \"data/724010TYA.csv\"   # VA Richmond\n",
    "writefiletitle = \"data/Output/1AxisTest.csv\"\n",
    "\n",
    "# Set optional variables.  These are the default values\n",
    "rowType = \"interior\"        # RowType(first interior last single)\n",
    "transFactor = 0.013         # TransmissionFactor(open area fraction)\n",
    "sensorsy = 6                # CellRows(# hor rows in panel)   This is the number of irradiance values returned along module chord\n",
    "PVfrontSurface = \"ARglass\"    # PVfrontSurface(glass or ARglass)\n",
    "PVbackSurface = \"glass\"     # PVbackSurface(glass or ARglass)\n",
    "# 1-axis tracking instructions (optional)\n",
    "tracking=True\n",
    "backtrack=True       # backtracking optimization as defined in pvlib\n",
    "deltastyle='TMY3'"
   ]
  },
  {
   "cell_type": "code",
   "execution_count": 14,
   "metadata": {},
   "outputs": [
    {
     "name": "stdout",
     "output_type": "stream",
     "text": [
      "Calculating Sun position with a delta of -30 mins. i.e. 12 is 11:30 sunpos\n"
     ]
    },
    {
     "name": "stderr",
     "output_type": "stream",
     "text": [
      "C:\\ProgramData\\Anaconda3\\lib\\site-packages\\pvlib\\tracking.py:449: RuntimeWarning: invalid value encountered in arccos\n",
      "  wc = np.degrees(np.arccos(temp))\n",
      "C:\\ProgramData\\Anaconda3\\lib\\site-packages\\pvlib\\tracking.py:473: RuntimeWarning: invalid value encountered in arccos\n",
      "  aoi = np.degrees(np.arccos(np.abs(np.sum(sun_vec*panel_norm, axis=0))))\n",
      "C:\\ProgramData\\Anaconda3\\lib\\site-packages\\pvlib\\tracking.py:568: RuntimeWarning: invalid value encountered in remainder\n",
      "  surface_azimuth = surface_azimuth % 360\n",
      "C:\\ProgramData\\Anaconda3\\lib\\site-packages\\pvlib\\tracking.py:572: RuntimeWarning: invalid value encountered in arccos\n",
      "  surface_tilt = 90 - np.degrees(np.arccos(dotproduct))\n"
     ]
    },
    {
     "name": "stdout",
     "output_type": "stream",
     "text": [
      "Albedo value passed, but also present in TMY3 file.  Using albedo value passed. To use the ones in TMY3 file re-run simulation with albedo=None\n",
      "\n",
      " \n",
      "********* \n",
      "Running Simulation for TMY3:  \"RICHMOND INTERNATIONAL AP\"\n",
      "Location:   \"RICHMOND INTERNATIONAL AP\"\n",
      "Lat:  37.517  Long:  -77.317  Tz  -5.0\n",
      "Parameters: tilt:  0   Sazm:  180     Hub_Height :  0.625   Pitch:  2.857142857142857   Row type:  interior   Albedo:  0.3\n",
      "Saving into data/Output/1AxisTest.csv\n",
      " \n",
      " \n",
      "Distance between rows for no shading on Dec 21 at 9 am solar time =  0.0\n",
      "Actual distance between rows =  1.8571428571428572\n",
      " \n",
      " ***** IMPORTANT --> THIS SIMULATION Has Tracking Activated\n",
      "Backtracking Option is set to:  True\n"
     ]
    },
    {
     "name": "stderr",
     "output_type": "stream",
     "text": [
      "100%|██████████| 8760/8760 [01:16<00:00, 115.09it/s]\n"
     ]
    },
    {
     "name": "stdout",
     "output_type": "stream",
     "text": [
      "Finished\n"
     ]
    }
   ],
   "source": [
    "#3. Call the function.\n",
    "myTMY3, meta = bifacialvf.bifacialvf.readInputTMY(TMYtoread)\n",
    "\n",
    "\n",
    "bifacialvf.simulate(myTMY3, meta, writefiletitle, beta, sazm, \n",
    "                hub_height=hub_height, rowType=rowType, transFactor=transFactor, sensorsy=sensorsy,\n",
    "                PVfrontSurface=PVfrontSurface, PVbackSurface=PVbackSurface, albedo=albedo, \n",
    "                tracking=True, backtrack=backtrack, pitch=pitch, limit_angle = limit_angle, deltastyle=deltastyle)\n",
    "  "
   ]
  },
  {
   "cell_type": "code",
   "execution_count": null,
   "metadata": {},
   "outputs": [],
   "source": [
    "#4. Load the results from the resultfile\n",
    "(data, metadata) = bifacialvf.loadVFresults(writefiletitle)\n",
    "#print data.keys()\n",
    "# calculate average front and back global tilted irradiance across the module chord in 6 points\n",
    "data['GTIFrontavg'] = data[['No_1_RowFrontGTI', 'No_2_RowFrontGTI','No_3_RowFrontGTI','No_4_RowFrontGTI','No_5_RowFrontGTI','No_6_RowFrontGTI']].mean(axis=1)\n",
    "data['GTIBackavg'] = data[['No_1_RowBackGTI', 'No_2_RowBackGTI','No_3_RowBackGTI','No_4_RowBackGTI','No_5_RowBackGTI','No_6_RowBackGTI']].mean(axis=1)\n",
    "\n",
    "# Print the annual bifacial ratio\n",
    "frontIrrSum = data['GTIFrontavg'].sum()\n",
    "backIrrSum = data['GTIBackavg'].sum()\n",
    "print('The 1-axis tracked bifacial ratio for ground clearance {} and row to row {} is: {:.1f}%\\n\\n *****'.format(C,rtr,backIrrSum/frontIrrSum*100))\n"
   ]
  },
  {
   "cell_type": "markdown",
   "metadata": {},
   "source": [
    "\n"
   ]
  }
 ],
 "metadata": {
  "anaconda-cloud": {},
  "kernelspec": {
   "display_name": "Python 3",
   "language": "python",
   "name": "python3"
  },
  "language_info": {
   "codemirror_mode": {
    "name": "ipython",
    "version": 3
   },
   "file_extension": ".py",
   "mimetype": "text/x-python",
   "name": "python",
   "nbconvert_exporter": "python",
   "pygments_lexer": "ipython3",
   "version": "3.7.3"
  }
 },
 "nbformat": 4,
 "nbformat_minor": 2
}
