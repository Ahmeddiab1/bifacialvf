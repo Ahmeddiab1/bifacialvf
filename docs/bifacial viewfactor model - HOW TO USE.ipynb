{
 "cells": [
  {
   "cell_type": "code",
   "execution_count": null,
   "metadata": {
    "collapsed": false
   },
   "outputs": [],
   "source": [
    "# STEP 1: Install and import the program\n",
    "#\n",
    "# clone the repo to your local directory\n",
    "# navigate to the \\bifacialvf directory which contains setup\n",
    "# run pip install -e .\n",
    "\n",
    "import bifacialvf    \n",
    "import os\n",
    "# change directory to \\bifacialvf\\ root\n",
    "os.chdir(os.path.dirname(bifacialvf.__file__))\n",
    "%pwd"
   ]
  },
  {
   "cell_type": "code",
   "execution_count": null,
   "metadata": {
    "collapsed": true
   },
   "outputs": [],
   "source": [
    "#2. Set the Values of your test\n",
    "# Remember all values are normalized to your panel length (slope, which will equal 1).\n",
    "# If your slope is different than 1 m, desired C and D (or Cv and r2r in tracking case) will need to be \n",
    "# divided by the slope length.\n",
    "# i.e.: panel 1mx1.59m, in portrait mode means slope = 1.59. For a height C of 1m, C = 1/1.59. \n",
    "#         For a rtr of 1.5m, D=0.51519/1.59 if beta tilt angle = 10 \n",
    "\n",
    "# Set mandatory variables\n",
    "beta = 10                   # PV tilt (deg)\n",
    "sazm = 180                  # PV Azimuth(deg)\n",
    "C = 1                      # GroundClearance(panel slope lengths)\n",
    "D = 0.51519                 # DistanceBetweenRows(panel slope lengths) this is NOT row to row spacing\n",
    "TMYtoread = \"data/724010TYA.csv\"   # VA Richmond\n",
    "writefiletitle = \"data/Output/test.csv\"\n",
    "\n",
    "# Set optional variables.  These are the default values\n",
    "rowType = \"interior\"        # RowType(first interior last single)\n",
    "transFactor = 0.013         # TransmissionFactor(open area fraction)\n",
    "cellRows = 6                # CellRows(# hor rows in panel)   This is the number of irradiance values returned along module chord\n",
    "PVfrontSurface = \"glass\"    # PVfrontSurface(glass or AR glass)\n",
    "PVbackSurface = \"glass\"     # PVbackSurface(glass or AR glass)\n",
    "albedo = 0.62               # ground albedo beneath system\n",
    "# 1-axis tracking instructions (optional)\n",
    "tracking=False\n",
    "backtrack=True       # backtracking optimization as defined in pvlib\n",
    "r2r = 1.5                   # row to row spacing in meters. This input is not used (D is used instead) except for in tracking\n",
    "Cv = 0.05                  # GroundClearance when panel is in vertical position (panel slope lengths)\n",
    "\n",
    "\n",
    "\n",
    "\n"
   ]
  },
  {
   "cell_type": "markdown",
   "metadata": {},
   "source": [
    "Notice that fixed systems use the parameter D, which is the space between the end of one panel and the beginning of the end, so it relates to the inclination angle beta. To go from a r2r value to D, you can use\n",
    "\n",
    "from rtr_and_D_calculation import rtr2D\n",
    "D = rtr2D(beta, rtr)"
   ]
  },
  {
   "cell_type": "code",
   "execution_count": null,
   "metadata": {
    "collapsed": false
   },
   "outputs": [],
   "source": [
    "#3. Call the function.\n",
    "\n",
    "\n",
    "\n",
    "bifacialvf.simulate(TMYtoread, writefiletitle, beta, sazm, \n",
    "                C, D, rowType=rowType, transFactor=transFactor, cellRows=cellRows,\n",
    "                PVfrontSurface=PVfrontSurface, PVbackSurface=PVbackSurface, albedo=albedo, \n",
    "                tracking=tracking, backtrack=backtrack, r2r=r2r, Cv=Cv)\n",
    "    "
   ]
  },
  {
   "cell_type": "code",
   "execution_count": null,
   "metadata": {
    "collapsed": false
   },
   "outputs": [],
   "source": [
    "#4. Load the results from the resultfile\n",
    "(data, metadata) = bifacialvf.loadVFresults(writefiletitle)\n",
    "#print data.keys()\n",
    "# calculate average front and back global tilted irradiance across the module chord\n",
    "data['GTIFrontavg'] = data[['No_1_RowFrontGTI', 'No_2_RowFrontGTI','No_3_RowFrontGTI','No_4_RowFrontGTI','No_5_RowFrontGTI','No_6_RowFrontGTI']].mean(axis=1)\n",
    "data['GTIBackavg'] = data[['No_1_RowBackGTI', 'No_2_RowBackGTI','No_3_RowBackGTI','No_4_RowBackGTI','No_5_RowBackGTI','No_6_RowBackGTI']].mean(axis=1)\n",
    "\n",
    "# Print the annual bifacial ratio\n",
    "frontIrrSum = data['GTIFrontavg'].sum()\n",
    "backIrrSum = data['GTIBackavg'].sum()\n",
    "print('The bifacial ratio for ground clearance {} and row gap {} is: {:.1f}%'.format(C,D,backIrrSum/frontIrrSum*100))\n",
    "\n"
   ]
  },
  {
   "cell_type": "code",
   "execution_count": null,
   "metadata": {
    "collapsed": false
   },
   "outputs": [],
   "source": [
    "# plot the rear irradiance distribution for a single point in time. 1999-07-06\n",
    "import matplotlib.pyplot as plt\n",
    "import pandas as pd\n",
    "%matplotlib inline\n",
    "\n",
    "data['GTIBackstd'] = data[['No_1_RowBackGTI', 'No_2_RowBackGTI','No_3_RowBackGTI','No_4_RowBackGTI','No_5_RowBackGTI','No_6_RowBackGTI']].std(axis=1)\n",
    "data['measdatetime'] = pd.to_datetime(data[['Year', 'Month', 'Day','Hour','Minute']])\n",
    "singleday = (data['measdatetime'] > '1999-07-06') & (data['measdatetime']<'1999-07-07')\n",
    "singleday2 = (data['measdatetime'] > '1999-07-12') & (data['measdatetime']<'1999-07-13')\n",
    "\n",
    "fig, ax = plt.subplots()\n",
    "ax1 = ax.twinx()\n",
    "ax1.plot(data['measdatetime'][singleday],data['GTIFrontavg'][singleday],'k')\n",
    "ax1.set_ylabel('Front Irradiance (Wm-2)')\n",
    "ax.set_ylabel('Rear Irradiance (Wm-2)')\n",
    "ax.plot(data['measdatetime'][singleday], data['No_1_RowBackGTI'][singleday],'r' , alpha =0.5)\n",
    "ax.plot(data['measdatetime'][singleday], data['No_2_RowBackGTI'][singleday], 'b', alpha = 0.5)\n",
    "ax.plot(data['measdatetime'][singleday], data['No_6_RowBackGTI'][singleday], 'g', alpha = 0.5)\n",
    "ax.set_title('Sunny day')\n",
    "fig.autofmt_xdate()\n",
    "fig.tight_layout()\n",
    "\n",
    "\n",
    "fig2, ax2 = plt.subplots()\n",
    "ax3 = ax2.twinx()\n",
    "ax3.plot(data['measdatetime'][singleday2],data['GTIFrontavg'][singleday2],'k')\n",
    "ax3.set_ylabel('Front Irradiance (Wm-2)')\n",
    "ax2.set_ylabel('Rear Irradiance (Wm-2)')\n",
    "ax2.plot(data['measdatetime'][singleday2], data['No_1_RowBackGTI'][singleday2],'r' , alpha =0.5)\n",
    "ax2.plot(data['measdatetime'][singleday2], data['No_2_RowBackGTI'][singleday2], 'b', alpha = 0.5)\n",
    "ax2.plot(data['measdatetime'][singleday2], data['No_6_RowBackGTI'][singleday2], 'g', alpha = 0.5)\n",
    "ax2.set_title('Cloudy day')\n",
    "fig2.autofmt_xdate()\n",
    "fig2.tight_layout()\n",
    "\n",
    "\n"
   ]
  },
  {
   "cell_type": "markdown",
   "metadata": {},
   "source": [
    "# Example of looping for a Site\n"
   ]
  },
  {
   "cell_type": "code",
   "execution_count": null,
   "metadata": {
    "collapsed": false
   },
   "outputs": [],
   "source": [
    "\n",
    "albedoloop=[0.1, 0.2, 0.4, 0.62, 0.8]\n",
    "Cloop=[0.15, 0.25, 0.5, 0.75, 1]\n",
    "Rtrloop=[1.5, 1.75, 2, 2.25, 2.5, 3]\n",
    "betaloop=[5, 10, 15, 20, 25, 30]\n",
    "\n",
    "\n",
    "for ii in range (0, 4):\n",
    "    \n",
    "    if ii==0:\n",
    "        ctloop=albedoloop\n",
    "        ctlooptitle='albedo'          \n",
    "    if ii==1:\n",
    "        ctloop=Cloop\n",
    "        ctlooptitle='height'            \n",
    "    if ii==2:\n",
    "        ctloop=Rtrloop\n",
    "        ctlooptitle='rtr'           \n",
    "    if ii==3:\n",
    "        ctloop=betaloop\n",
    "        ctlooptitle='beta'\n",
    "        \n",
    "   \n",
    "    for jj in range (0, len(ctloop)):\n",
    "\n",
    "        # Base params\n",
    "        albedo=0.62\n",
    "        C=0.15\n",
    "        beta=10\n",
    "        rtr=1.5\n",
    "        D = 0.515192246987792\n",
    "\n",
    "        if ii==0:\n",
    "            albedo=ctloop[jj]    \n",
    "        if ii==1:\n",
    "            C=ctloop[jj]                \n",
    "        if ii==2:\n",
    "            D=rtr2D(beta, ctloop[jj])\n",
    "        if ii==3:\n",
    "            beta=ctloop[jj]                \n",
    "\n",
    "    \n",
    "        writefiletitle=\"data/Output/\"+\"TestLoop_\"+str(ctlooptitle)+\"_\"+str(ctloop[jj])+\".csv\"\n",
    "       \n",
    "        \n",
    "        bifacialvf.simulate(TMYtoread, writefiletitle, beta, sazm, \n",
    "                C, D, rowType=rowType, transFactor=transFactor, cellRows=cellRows, \n",
    "                albedo=albedo, tracking=tracking, r2r=r2r, Cv=Cv)\n"
   ]
  },
  {
   "cell_type": "markdown",
   "metadata": {},
   "source": [
    "\n"
   ]
  }
 ],
 "metadata": {
  "anaconda-cloud": {},
  "kernelspec": {
   "display_name": "Python [default]",
   "language": "python",
   "name": "python2"
  },
  "language_info": {
   "codemirror_mode": {
    "name": "ipython",
    "version": 2
   },
   "file_extension": ".py",
   "mimetype": "text/x-python",
   "name": "python",
   "nbconvert_exporter": "python",
   "pygments_lexer": "ipython2",
   "version": "2.7.12"
  }
 },
 "nbformat": 4,
 "nbformat_minor": 2
}
